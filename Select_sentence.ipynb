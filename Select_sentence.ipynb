{
 "cells": [
  {
   "cell_type": "code",
   "execution_count": 22,
   "id": "e806bc0e-6983-47f3-9c8f-958de1b1ac92",
   "metadata": {},
   "outputs": [],
   "source": [
    "import spacy\n",
    "from spacy.lang.en.stop_words import STOP_WORDS\n",
    "from string import punctuation"
   ]
  },
  {
   "cell_type": "code",
   "execution_count": 23,
   "id": "1699efb2-d1d2-4278-8d98-09776bb2481e",
   "metadata": {},
   "outputs": [],
   "source": [
    "stopwords = list(STOP_WORDS)"
   ]
  },
  {
   "cell_type": "code",
   "execution_count": 24,
   "id": "30b28f6c-0b61-4830-86a1-b4910769e1e9",
   "metadata": {},
   "outputs": [],
   "source": [
    "nlp = spacy.load('en_core_web_sm')"
   ]
  },
  {
   "cell_type": "code",
   "execution_count": 25,
   "id": "2fe14663-c0b1-4061-b5b4-7054255429f2",
   "metadata": {},
   "outputs": [],
   "source": [
    "text = \"\"\"\n",
    "LONDON, England (Reuters) -- Harry Potter star Daniel Radcliffe gains access to a reported £20 million ($41.1 million) fortune as he turns 18 on Monday, but he insists the money won\\'t cast a spell on him. Daniel Radcliffe as Harry Potter in \"Harry Potter and the Order of the Phoenix\" To the disappointment of gossip columnists around the world, the young actor says he has no plans to fritter his cash away on fast cars, drink and celebrity parties. \"I don\\'t plan to be one of those people who, as soon as they turn 18, suddenly buy themselves a massive sports car collection or something similar,\" he told an Australian interviewer earlier this month. \"I don\\'t think I\\'ll be particularly extravagant. \"The things I like buying are things that cost about 10 pounds -- books and CDs and DVDs.\" At 18, Radcliffe will be able to gamble in a casino, buy a drink in a pub or see the horror film \"Hostel: Part II,\" currently six places below his number one movie on the UK box office chart. Details of how he\\'ll mark his landmark birthday are under wraps. His agent and publicist had no comment on his plans. \"I\\'ll definitely have some sort of party,\" he said in an interview. \"Hopefully none of you will be reading about it.\" Radcliffe\\'s earnings from the first five Potter films have been held in a trust fund which he has not been able to touch. Despite his growing fame and riches, the actor says he is keeping his feet firmly on the ground. \"People are always looking to say \\'kid star goes off the rails,\\'\" he told reporters last month. \"But I try very hard not to go that way because it would be too easy for them.\" His latest outing as the boy wizard in \"Harry Potter and the Order of the Phoenix\" is breaking records on both sides of the Atlantic and he will reprise the role in the last two films.  Watch I-Reporter give her review of Potter\\'s latest » . There is life beyond Potter, however. The Londoner has filmed a TV movie called \"My Boy Jack,\" about author Rudyard Kipling and his son, due for release later this year. He will also appear in \"December Boys,\" an Australian film about four boys who escape an orphanage. Earlier this year, he made his stage debut playing a tortured teenager in Peter Shaffer\\'s \"Equus.\" Meanwhile, he is braced for even closer media scrutiny now that he\\'s legally an adult: \"I just think I\\'m going to be more sort of fair game,\" he told Reuters. E-mail to a friend . Copyright 2007 Reuters. All rights reserved.This material may not be published, broadcast, rewritten, or redistributed.\n",
    " \"\"\""
   ]
  },
  {
   "cell_type": "code",
   "execution_count": 26,
   "id": "319f7e0a-6e8d-448f-9ca3-b1aac4095058",
   "metadata": {},
   "outputs": [],
   "source": [
    "doc = nlp(text)"
   ]
  },
  {
   "cell_type": "code",
   "execution_count": 27,
   "id": "f9a9e89b-3528-4b30-af60-f647275fa179",
   "metadata": {},
   "outputs": [
    {
     "name": "stdout",
     "output_type": "stream",
     "text": [
      "['\\n', 'LONDON', ',', 'England', '(', 'Reuters', ')', '--', 'Harry', 'Potter', 'star', 'Daniel', 'Radcliffe', 'gains', 'access', 'to', 'a', 'reported', '£', '20', 'million', '(', '$', '41.1', 'million', ')', 'fortune', 'as', 'he', 'turns', '18', 'on', 'Monday', ',', 'but', 'he', 'insists', 'the', 'money', 'wo', \"n't\", 'cast', 'a', 'spell', 'on', 'him', '.', 'Daniel', 'Radcliffe', 'as', 'Harry', 'Potter', 'in', '\"', 'Harry', 'Potter', 'and', 'the', 'Order', 'of', 'the', 'Phoenix', '\"', 'To', 'the', 'disappointment', 'of', 'gossip', 'columnists', 'around', 'the', 'world', ',', 'the', 'young', 'actor', 'says', 'he', 'has', 'no', 'plans', 'to', 'fritter', 'his', 'cash', 'away', 'on', 'fast', 'cars', ',', 'drink', 'and', 'celebrity', 'parties', '.', '\"', 'I', 'do', \"n't\", 'plan', 'to', 'be', 'one', 'of', 'those', 'people', 'who', ',', 'as', 'soon', 'as', 'they', 'turn', '18', ',', 'suddenly', 'buy', 'themselves', 'a', 'massive', 'sports', 'car', 'collection', 'or', 'something', 'similar', ',', '\"', 'he', 'told', 'an', 'Australian', 'interviewer', 'earlier', 'this', 'month', '.', '\"', 'I', 'do', \"n't\", 'think', 'I', \"'ll\", 'be', 'particularly', 'extravagant', '.', '\"', 'The', 'things', 'I', 'like', 'buying', 'are', 'things', 'that', 'cost', 'about', '10', 'pounds', '--', 'books', 'and', 'CDs', 'and', 'DVDs', '.', '\"', 'At', '18', ',', 'Radcliffe', 'will', 'be', 'able', 'to', 'gamble', 'in', 'a', 'casino', ',', 'buy', 'a', 'drink', 'in', 'a', 'pub', 'or', 'see', 'the', 'horror', 'film', '\"', 'Hostel', ':', 'Part', 'II', ',', '\"', 'currently', 'six', 'places', 'below', 'his', 'number', 'one', 'movie', 'on', 'the', 'UK', 'box', 'office', 'chart', '.', 'Details', 'of', 'how', 'he', \"'ll\", 'mark', 'his', 'landmark', 'birthday', 'are', 'under', 'wraps', '.', 'His', 'agent', 'and', 'publicist', 'had', 'no', 'comment', 'on', 'his', 'plans', '.', '\"', 'I', \"'ll\", 'definitely', 'have', 'some', 'sort', 'of', 'party', ',', '\"', 'he', 'said', 'in', 'an', 'interview', '.', '\"', 'Hopefully', 'none', 'of', 'you', 'will', 'be', 'reading', 'about', 'it', '.', '\"', 'Radcliffe', \"'s\", 'earnings', 'from', 'the', 'first', 'five', 'Potter', 'films', 'have', 'been', 'held', 'in', 'a', 'trust', 'fund', 'which', 'he', 'has', 'not', 'been', 'able', 'to', 'touch', '.', 'Despite', 'his', 'growing', 'fame', 'and', 'riches', ',', 'the', 'actor', 'says', 'he', 'is', 'keeping', 'his', 'feet', 'firmly', 'on', 'the', 'ground', '.', '\"', 'People', 'are', 'always', 'looking', 'to', 'say', \"'\", 'kid', 'star', 'goes', 'off', 'the', 'rails', ',', \"'\", '\"', 'he', 'told', 'reporters', 'last', 'month', '.', '\"', 'But', 'I', 'try', 'very', 'hard', 'not', 'to', 'go', 'that', 'way', 'because', 'it', 'would', 'be', 'too', 'easy', 'for', 'them', '.', '\"', 'His', 'latest', 'outing', 'as', 'the', 'boy', 'wizard', 'in', '\"', 'Harry', 'Potter', 'and', 'the', 'Order', 'of', 'the', 'Phoenix', '\"', 'is', 'breaking', 'records', 'on', 'both', 'sides', 'of', 'the', 'Atlantic', 'and', 'he', 'will', 'reprise', 'the', 'role', 'in', 'the', 'last', 'two', 'films', '.', ' ', 'Watch', 'I', '-', 'Reporter', 'give', 'her', 'review', 'of', 'Potter', \"'s\", 'latest', '»', '.', 'There', 'is', 'life', 'beyond', 'Potter', ',', 'however', '.', 'The', 'Londoner', 'has', 'filmed', 'a', 'TV', 'movie', 'called', '\"', 'My', 'Boy', 'Jack', ',', '\"', 'about', 'author', 'Rudyard', 'Kipling', 'and', 'his', 'son', ',', 'due', 'for', 'release', 'later', 'this', 'year', '.', 'He', 'will', 'also', 'appear', 'in', '\"', 'December', 'Boys', ',', '\"', 'an', 'Australian', 'film', 'about', 'four', 'boys', 'who', 'escape', 'an', 'orphanage', '.', 'Earlier', 'this', 'year', ',', 'he', 'made', 'his', 'stage', 'debut', 'playing', 'a', 'tortured', 'teenager', 'in', 'Peter', 'Shaffer', \"'s\", '\"', 'Equus', '.', '\"', 'Meanwhile', ',', 'he', 'is', 'braced', 'for', 'even', 'closer', 'media', 'scrutiny', 'now', 'that', 'he', \"'s\", 'legally', 'an', 'adult', ':', '\"', 'I', 'just', 'think', 'I', \"'m\", 'going', 'to', 'be', 'more', 'sort', 'of', 'fair', 'game', ',', '\"', 'he', 'told', 'Reuters', '.', 'E', '-', 'mail', 'to', 'a', 'friend', '.', 'Copyright', '2007', 'Reuters', '.', 'All', 'rights', 'reserved', '.', 'This', 'material', 'may', 'not', 'be', 'published', ',', 'broadcast', ',', 'rewritten', ',', 'or', 'redistributed', '.', '\\n ']\n"
     ]
    }
   ],
   "source": [
    "tokens = [token.text for token in doc]\n",
    "print(tokens)"
   ]
  },
  {
   "cell_type": "code",
   "execution_count": 28,
   "id": "01d0dfcb-b0ed-4ea3-9f58-c0b9442faa33",
   "metadata": {},
   "outputs": [],
   "source": [
    "punctuation = punctuation + '\\n'"
   ]
  },
  {
   "cell_type": "code",
   "execution_count": 29,
   "id": "5b6ba507-0fce-4dad-bac9-98d3f5777d08",
   "metadata": {},
   "outputs": [],
   "source": [
    "word_frequencies = {}\n",
    "for word in doc:\n",
    "    if word.text.lower() not in stopwords:\n",
    "        if word.text.lower() not in punctuation:\n",
    "            if word.text not in word_frequencies.keys():\n",
    "                word_frequencies[word.text] = 1\n",
    "            else:\n",
    "                word_frequencies[word.text] += 1"
   ]
  },
  {
   "cell_type": "code",
   "execution_count": 30,
   "id": "d1bbb26c-0224-4a0e-b85e-15bd8e6ac91f",
   "metadata": {},
   "outputs": [
    {
     "data": {
      "text/plain": [
       "{'LONDON': 1,\n",
       " 'England': 1,\n",
       " 'Reuters': 3,\n",
       " '--': 2,\n",
       " 'Harry': 4,\n",
       " 'Potter': 7,\n",
       " 'star': 2,\n",
       " 'Daniel': 2,\n",
       " 'Radcliffe': 4,\n",
       " 'gains': 1,\n",
       " 'access': 1,\n",
       " 'reported': 1,\n",
       " '£': 1,\n",
       " '20': 1,\n",
       " 'million': 2,\n",
       " '41.1': 1,\n",
       " 'fortune': 1,\n",
       " 'turns': 1,\n",
       " '18': 3,\n",
       " 'Monday': 1,\n",
       " 'insists': 1,\n",
       " 'money': 1,\n",
       " 'wo': 1,\n",
       " 'cast': 1,\n",
       " 'spell': 1,\n",
       " 'Order': 2,\n",
       " 'Phoenix': 2,\n",
       " 'disappointment': 1,\n",
       " 'gossip': 1,\n",
       " 'columnists': 1,\n",
       " 'world': 1,\n",
       " 'young': 1,\n",
       " 'actor': 2,\n",
       " 'says': 2,\n",
       " 'plans': 2,\n",
       " 'fritter': 1,\n",
       " 'cash': 1,\n",
       " 'away': 1,\n",
       " 'fast': 1,\n",
       " 'cars': 1,\n",
       " 'drink': 2,\n",
       " 'celebrity': 1,\n",
       " 'parties': 1,\n",
       " 'plan': 1,\n",
       " 'people': 1,\n",
       " 'soon': 1,\n",
       " 'turn': 1,\n",
       " 'suddenly': 1,\n",
       " 'buy': 2,\n",
       " 'massive': 1,\n",
       " 'sports': 1,\n",
       " 'car': 1,\n",
       " 'collection': 1,\n",
       " 'similar': 1,\n",
       " 'told': 3,\n",
       " 'Australian': 2,\n",
       " 'interviewer': 1,\n",
       " 'earlier': 1,\n",
       " 'month': 2,\n",
       " 'think': 2,\n",
       " 'particularly': 1,\n",
       " 'extravagant': 1,\n",
       " 'things': 2,\n",
       " 'like': 1,\n",
       " 'buying': 1,\n",
       " 'cost': 1,\n",
       " '10': 1,\n",
       " 'pounds': 1,\n",
       " 'books': 1,\n",
       " 'CDs': 1,\n",
       " 'DVDs': 1,\n",
       " 'able': 2,\n",
       " 'gamble': 1,\n",
       " 'casino': 1,\n",
       " 'pub': 1,\n",
       " 'horror': 1,\n",
       " 'film': 2,\n",
       " 'Hostel': 1,\n",
       " 'II': 1,\n",
       " 'currently': 1,\n",
       " 'places': 1,\n",
       " 'number': 1,\n",
       " 'movie': 2,\n",
       " 'UK': 1,\n",
       " 'box': 1,\n",
       " 'office': 1,\n",
       " 'chart': 1,\n",
       " 'Details': 1,\n",
       " 'mark': 1,\n",
       " 'landmark': 1,\n",
       " 'birthday': 1,\n",
       " 'wraps': 1,\n",
       " 'agent': 1,\n",
       " 'publicist': 1,\n",
       " 'comment': 1,\n",
       " 'definitely': 1,\n",
       " 'sort': 2,\n",
       " 'party': 1,\n",
       " 'said': 1,\n",
       " 'interview': 1,\n",
       " 'Hopefully': 1,\n",
       " 'reading': 1,\n",
       " 'earnings': 1,\n",
       " 'films': 2,\n",
       " 'held': 1,\n",
       " 'trust': 1,\n",
       " 'fund': 1,\n",
       " 'touch': 1,\n",
       " 'Despite': 1,\n",
       " 'growing': 1,\n",
       " 'fame': 1,\n",
       " 'riches': 1,\n",
       " 'keeping': 1,\n",
       " 'feet': 1,\n",
       " 'firmly': 1,\n",
       " 'ground': 1,\n",
       " 'People': 1,\n",
       " 'looking': 1,\n",
       " 'kid': 1,\n",
       " 'goes': 1,\n",
       " 'rails': 1,\n",
       " 'reporters': 1,\n",
       " 'try': 1,\n",
       " 'hard': 1,\n",
       " 'way': 1,\n",
       " 'easy': 1,\n",
       " 'latest': 2,\n",
       " 'outing': 1,\n",
       " 'boy': 1,\n",
       " 'wizard': 1,\n",
       " 'breaking': 1,\n",
       " 'records': 1,\n",
       " 'sides': 1,\n",
       " 'Atlantic': 1,\n",
       " 'reprise': 1,\n",
       " 'role': 1,\n",
       " ' ': 1,\n",
       " 'Watch': 1,\n",
       " 'Reporter': 1,\n",
       " 'review': 1,\n",
       " '»': 1,\n",
       " 'life': 1,\n",
       " 'Londoner': 1,\n",
       " 'filmed': 1,\n",
       " 'TV': 1,\n",
       " 'called': 1,\n",
       " 'Boy': 1,\n",
       " 'Jack': 1,\n",
       " 'author': 1,\n",
       " 'Rudyard': 1,\n",
       " 'Kipling': 1,\n",
       " 'son': 1,\n",
       " 'release': 1,\n",
       " 'later': 1,\n",
       " 'year': 2,\n",
       " 'appear': 1,\n",
       " 'December': 1,\n",
       " 'Boys': 1,\n",
       " 'boys': 1,\n",
       " 'escape': 1,\n",
       " 'orphanage': 1,\n",
       " 'Earlier': 1,\n",
       " 'stage': 1,\n",
       " 'debut': 1,\n",
       " 'playing': 1,\n",
       " 'tortured': 1,\n",
       " 'teenager': 1,\n",
       " 'Peter': 1,\n",
       " 'Shaffer': 1,\n",
       " 'Equus': 1,\n",
       " 'braced': 1,\n",
       " 'closer': 1,\n",
       " 'media': 1,\n",
       " 'scrutiny': 1,\n",
       " 'legally': 1,\n",
       " 'adult': 1,\n",
       " 'going': 1,\n",
       " 'fair': 1,\n",
       " 'game': 1,\n",
       " 'E': 1,\n",
       " 'mail': 1,\n",
       " 'friend': 1,\n",
       " 'Copyright': 1,\n",
       " '2007': 1,\n",
       " 'rights': 1,\n",
       " 'reserved': 1,\n",
       " 'material': 1,\n",
       " 'published': 1,\n",
       " 'broadcast': 1,\n",
       " 'rewritten': 1,\n",
       " 'redistributed': 1,\n",
       " '\\n ': 1}"
      ]
     },
     "execution_count": 30,
     "metadata": {},
     "output_type": "execute_result"
    }
   ],
   "source": [
    "word_frequencies "
   ]
  },
  {
   "cell_type": "code",
   "execution_count": 31,
   "id": "d319ed01-a294-45d5-b2fc-a3dd4adf0967",
   "metadata": {},
   "outputs": [
    {
     "name": "stdout",
     "output_type": "stream",
     "text": [
      "7\n"
     ]
    }
   ],
   "source": [
    "max_frequency = max(word_frequencies.values())\n",
    "print(max_frequency)"
   ]
  },
  {
   "cell_type": "code",
   "execution_count": 32,
   "id": "050f67cb-d725-4aea-9291-7c2efe0ca99c",
   "metadata": {},
   "outputs": [],
   "source": [
    "for word in word_frequencies.keys():\n",
    "    word_frequencies[word] = word_frequencies[word]/max_frequency"
   ]
  },
  {
   "cell_type": "code",
   "execution_count": 33,
   "id": "0db66562-0e02-48fc-99ec-9a2f532cea25",
   "metadata": {},
   "outputs": [
    {
     "name": "stdout",
     "output_type": "stream",
     "text": [
      "{'LONDON': 0.14285714285714285, 'England': 0.14285714285714285, 'Reuters': 0.42857142857142855, '--': 0.2857142857142857, 'Harry': 0.5714285714285714, 'Potter': 1.0, 'star': 0.2857142857142857, 'Daniel': 0.2857142857142857, 'Radcliffe': 0.5714285714285714, 'gains': 0.14285714285714285, 'access': 0.14285714285714285, 'reported': 0.14285714285714285, '£': 0.14285714285714285, '20': 0.14285714285714285, 'million': 0.2857142857142857, '41.1': 0.14285714285714285, 'fortune': 0.14285714285714285, 'turns': 0.14285714285714285, '18': 0.42857142857142855, 'Monday': 0.14285714285714285, 'insists': 0.14285714285714285, 'money': 0.14285714285714285, 'wo': 0.14285714285714285, 'cast': 0.14285714285714285, 'spell': 0.14285714285714285, 'Order': 0.2857142857142857, 'Phoenix': 0.2857142857142857, 'disappointment': 0.14285714285714285, 'gossip': 0.14285714285714285, 'columnists': 0.14285714285714285, 'world': 0.14285714285714285, 'young': 0.14285714285714285, 'actor': 0.2857142857142857, 'says': 0.2857142857142857, 'plans': 0.2857142857142857, 'fritter': 0.14285714285714285, 'cash': 0.14285714285714285, 'away': 0.14285714285714285, 'fast': 0.14285714285714285, 'cars': 0.14285714285714285, 'drink': 0.2857142857142857, 'celebrity': 0.14285714285714285, 'parties': 0.14285714285714285, 'plan': 0.14285714285714285, 'people': 0.14285714285714285, 'soon': 0.14285714285714285, 'turn': 0.14285714285714285, 'suddenly': 0.14285714285714285, 'buy': 0.2857142857142857, 'massive': 0.14285714285714285, 'sports': 0.14285714285714285, 'car': 0.14285714285714285, 'collection': 0.14285714285714285, 'similar': 0.14285714285714285, 'told': 0.42857142857142855, 'Australian': 0.2857142857142857, 'interviewer': 0.14285714285714285, 'earlier': 0.14285714285714285, 'month': 0.2857142857142857, 'think': 0.2857142857142857, 'particularly': 0.14285714285714285, 'extravagant': 0.14285714285714285, 'things': 0.2857142857142857, 'like': 0.14285714285714285, 'buying': 0.14285714285714285, 'cost': 0.14285714285714285, '10': 0.14285714285714285, 'pounds': 0.14285714285714285, 'books': 0.14285714285714285, 'CDs': 0.14285714285714285, 'DVDs': 0.14285714285714285, 'able': 0.2857142857142857, 'gamble': 0.14285714285714285, 'casino': 0.14285714285714285, 'pub': 0.14285714285714285, 'horror': 0.14285714285714285, 'film': 0.2857142857142857, 'Hostel': 0.14285714285714285, 'II': 0.14285714285714285, 'currently': 0.14285714285714285, 'places': 0.14285714285714285, 'number': 0.14285714285714285, 'movie': 0.2857142857142857, 'UK': 0.14285714285714285, 'box': 0.14285714285714285, 'office': 0.14285714285714285, 'chart': 0.14285714285714285, 'Details': 0.14285714285714285, 'mark': 0.14285714285714285, 'landmark': 0.14285714285714285, 'birthday': 0.14285714285714285, 'wraps': 0.14285714285714285, 'agent': 0.14285714285714285, 'publicist': 0.14285714285714285, 'comment': 0.14285714285714285, 'definitely': 0.14285714285714285, 'sort': 0.2857142857142857, 'party': 0.14285714285714285, 'said': 0.14285714285714285, 'interview': 0.14285714285714285, 'Hopefully': 0.14285714285714285, 'reading': 0.14285714285714285, 'earnings': 0.14285714285714285, 'films': 0.2857142857142857, 'held': 0.14285714285714285, 'trust': 0.14285714285714285, 'fund': 0.14285714285714285, 'touch': 0.14285714285714285, 'Despite': 0.14285714285714285, 'growing': 0.14285714285714285, 'fame': 0.14285714285714285, 'riches': 0.14285714285714285, 'keeping': 0.14285714285714285, 'feet': 0.14285714285714285, 'firmly': 0.14285714285714285, 'ground': 0.14285714285714285, 'People': 0.14285714285714285, 'looking': 0.14285714285714285, 'kid': 0.14285714285714285, 'goes': 0.14285714285714285, 'rails': 0.14285714285714285, 'reporters': 0.14285714285714285, 'try': 0.14285714285714285, 'hard': 0.14285714285714285, 'way': 0.14285714285714285, 'easy': 0.14285714285714285, 'latest': 0.2857142857142857, 'outing': 0.14285714285714285, 'boy': 0.14285714285714285, 'wizard': 0.14285714285714285, 'breaking': 0.14285714285714285, 'records': 0.14285714285714285, 'sides': 0.14285714285714285, 'Atlantic': 0.14285714285714285, 'reprise': 0.14285714285714285, 'role': 0.14285714285714285, ' ': 0.14285714285714285, 'Watch': 0.14285714285714285, 'Reporter': 0.14285714285714285, 'review': 0.14285714285714285, '»': 0.14285714285714285, 'life': 0.14285714285714285, 'Londoner': 0.14285714285714285, 'filmed': 0.14285714285714285, 'TV': 0.14285714285714285, 'called': 0.14285714285714285, 'Boy': 0.14285714285714285, 'Jack': 0.14285714285714285, 'author': 0.14285714285714285, 'Rudyard': 0.14285714285714285, 'Kipling': 0.14285714285714285, 'son': 0.14285714285714285, 'release': 0.14285714285714285, 'later': 0.14285714285714285, 'year': 0.2857142857142857, 'appear': 0.14285714285714285, 'December': 0.14285714285714285, 'Boys': 0.14285714285714285, 'boys': 0.14285714285714285, 'escape': 0.14285714285714285, 'orphanage': 0.14285714285714285, 'Earlier': 0.14285714285714285, 'stage': 0.14285714285714285, 'debut': 0.14285714285714285, 'playing': 0.14285714285714285, 'tortured': 0.14285714285714285, 'teenager': 0.14285714285714285, 'Peter': 0.14285714285714285, 'Shaffer': 0.14285714285714285, 'Equus': 0.14285714285714285, 'braced': 0.14285714285714285, 'closer': 0.14285714285714285, 'media': 0.14285714285714285, 'scrutiny': 0.14285714285714285, 'legally': 0.14285714285714285, 'adult': 0.14285714285714285, 'going': 0.14285714285714285, 'fair': 0.14285714285714285, 'game': 0.14285714285714285, 'E': 0.14285714285714285, 'mail': 0.14285714285714285, 'friend': 0.14285714285714285, 'Copyright': 0.14285714285714285, '2007': 0.14285714285714285, 'rights': 0.14285714285714285, 'reserved': 0.14285714285714285, 'material': 0.14285714285714285, 'published': 0.14285714285714285, 'broadcast': 0.14285714285714285, 'rewritten': 0.14285714285714285, 'redistributed': 0.14285714285714285, '\\n ': 0.14285714285714285}\n"
     ]
    }
   ],
   "source": [
    "print(word_frequencies)"
   ]
  },
  {
   "cell_type": "code",
   "execution_count": 34,
   "id": "2d31d50e-2676-4bdd-bc3e-7ced47cb9054",
   "metadata": {},
   "outputs": [
    {
     "name": "stdout",
     "output_type": "stream",
     "text": [
      "[\n",
      "LONDON, England (Reuters) -- Harry Potter star Daniel Radcliffe gains access to a reported £20 million ($41.1 million) fortune as he turns 18 on Monday, but he insists the money won't cast a spell on him., Daniel Radcliffe as Harry Potter in \"Harry Potter and the Order of the Phoenix\", To the disappointment of gossip columnists around the world, the young actor says he has no plans to fritter his cash away on fast cars, drink and celebrity parties., \"I don't plan to be one of those people who, as soon as they turn 18, suddenly buy themselves a massive sports car collection or something similar,\" he told an Australian interviewer earlier this month., \"I don't think I'll be particularly extravagant., \"The things I like buying are things that cost about 10 pounds -- books and CDs and DVDs.\", At 18, Radcliffe will be able to gamble in a casino, buy a drink in a pub or see the horror film \"Hostel: Part II,\" currently six places below his number one movie on the UK box office chart., Details of how he'll mark his landmark birthday are under wraps., His agent and publicist had no comment on his plans., \"I'll definitely have some sort of party,\" he said in an interview., \"Hopefully none of you will be reading about it.\", Radcliffe's earnings from the first five Potter films have been held in a trust fund which he has not been able to touch., Despite his growing fame and riches, the actor says he is keeping his feet firmly on the ground., \"People are always looking to say 'kid star goes off the rails,'\" he told reporters last month., \"But I try very hard not to go that way because it would be too easy for them.\", His latest outing as the boy wizard in \"Harry Potter and the Order of the Phoenix\" is breaking records on both sides of the Atlantic and he will reprise the role in the last two films.  , Watch I-Reporter give her review of Potter's latest » ., There is life beyond Potter, however., The Londoner has filmed a TV movie called \"My Boy Jack,\" about author Rudyard Kipling and his son, due for release later this year., He will also appear in \"December Boys,\" an Australian film about four boys who escape an orphanage., Earlier this year, he made his stage debut playing a tortured teenager in Peter Shaffer's \"Equus.\", Meanwhile, he is braced for even closer media scrutiny now that he's legally an adult: \"I just think I'm going to be more sort of fair game,\" he told Reuters., E-mail to a friend ., Copyright 2007 Reuters., All rights reserved., This material may not be published, broadcast, rewritten, or redistributed.\n",
      " ]\n"
     ]
    }
   ],
   "source": [
    " sentence_tokens = [sent for sent in doc.sents]\n",
    "print(sentence_tokens)"
   ]
  },
  {
   "cell_type": "code",
   "execution_count": 36,
   "id": "19d2eef9-8387-4d8d-8387-982b54a44e2c",
   "metadata": {},
   "outputs": [],
   "source": [
    "sentence_scores = {}\n",
    "for sent in sentence_tokens:\n",
    "    for word in sent:\n",
    "        if word.text.lower() in word_frequencies.keys():\n",
    "            if sent not in sentence_scores.keys():\n",
    "                sentence_scores[sent] = word_frequencies[word.text.lower()]\n",
    "            else:\n",
    "                sentence_scores[sent] += word_frequencies[word.text.lower()]"
   ]
  },
  {
   "cell_type": "code",
   "execution_count": 37,
   "id": "b9aa1400-9cd6-4b52-8967-8711c4020b02",
   "metadata": {},
   "outputs": [
    {
     "data": {
      "text/plain": [
       "{\n",
       " LONDON, England (Reuters) -- Harry Potter star Daniel Radcliffe gains access to a reported £20 million ($41.1 million) fortune as he turns 18 on Monday, but he insists the money won't cast a spell on him.: 3.4285714285714275,\n",
       " To the disappointment of gossip columnists around the world, the young actor says he has no plans to fritter his cash away on fast cars, drink and celebrity parties.: 2.8571428571428563,\n",
       " \"I don't plan to be one of those people who, as soon as they turn 18, suddenly buy themselves a massive sports car collection or something similar,\" he told an Australian interviewer earlier this month.: 3.142857142857142,\n",
       " \"I don't think I'll be particularly extravagant.: 0.5714285714285714,\n",
       " \"The things I like buying are things that cost about 10 pounds -- books and CDs and DVDs.\": 1.714285714285714,\n",
       " At 18, Radcliffe will be able to gamble in a casino, buy a drink in a pub or see the horror film \"Hostel: Part II,\" currently six places below his number one movie on the UK box office chart.: 3.2857142857142847,\n",
       " Details of how he'll mark his landmark birthday are under wraps.: 0.5714285714285714,\n",
       " His agent and publicist had no comment on his plans.: 0.7142857142857142,\n",
       " \"I'll definitely have some sort of party,\" he said in an interview.: 0.857142857142857,\n",
       " \"Hopefully none of you will be reading about it.\": 0.14285714285714285,\n",
       " Radcliffe's earnings from the first five Potter films have been held in a trust fund which he has not been able to touch.: 1.2857142857142856,\n",
       " Despite his growing fame and riches, the actor says he is keeping his feet firmly on the ground.: 1.5714285714285712,\n",
       " \"People are always looking to say 'kid star goes off the rails,'\" he told reporters last month.: 1.8571428571428568,\n",
       " \"But I try very hard not to go that way because it would be too easy for them.\": 0.5714285714285714,\n",
       " His latest outing as the boy wizard in \"Harry Potter and the Order of the Phoenix\" is breaking records on both sides of the Atlantic and he will reprise the role in the last two films.  : 1.8571428571428568,\n",
       " Watch I-Reporter give her review of Potter's latest » .: 0.5714285714285714,\n",
       " There is life beyond Potter, however.: 0.14285714285714285,\n",
       " The Londoner has filmed a TV movie called \"My Boy Jack,\" about author Rudyard Kipling and his son, due for release later this year.: 1.5714285714285712,\n",
       " He will also appear in \"December Boys,\" an Australian film about four boys who escape an orphanage.: 0.9999999999999998,\n",
       " Earlier this year, he made his stage debut playing a tortured teenager in Peter Shaffer's \"Equus.\": 1.1428571428571426,\n",
       " Meanwhile, he is braced for even closer media scrutiny now that he's legally an adult: \"I just think I'm going to be more sort of fair game,\" he told Reuters.: 2.285714285714285,\n",
       " E-mail to a friend .: 0.2857142857142857,\n",
       " Copyright 2007 Reuters.: 0.14285714285714285,\n",
       " All rights reserved.: 0.2857142857142857,\n",
       " This material may not be published, broadcast, rewritten, or redistributed.\n",
       "  : 0.857142857142857}"
      ]
     },
     "execution_count": 37,
     "metadata": {},
     "output_type": "execute_result"
    }
   ],
   "source": [
    "sentence_scores"
   ]
  },
  {
   "cell_type": "code",
   "execution_count": 38,
   "id": "838df621-d438-435f-983a-cb1f2e2c8faa",
   "metadata": {},
   "outputs": [],
   "source": [
    "from heapq import nlargest"
   ]
  },
  {
   "cell_type": "code",
   "execution_count": 39,
   "id": "da3d5c1f-2903-4b00-9535-2223e54d8bb5",
   "metadata": {},
   "outputs": [
    {
     "data": {
      "text/plain": [
       "7"
      ]
     },
     "execution_count": 39,
     "metadata": {},
     "output_type": "execute_result"
    }
   ],
   "source": [
    "select_length = int(len(sentence_tokens) * 0.3)\n",
    "select_length"
   ]
  },
  {
   "cell_type": "code",
   "execution_count": 40,
   "id": "9136d33e-5175-4ff7-9b49-3ce1231b21f9",
   "metadata": {},
   "outputs": [],
   "source": [
    "summary = nlargest(select_length, sentence_scores, key = sentence_scores.get)"
   ]
  },
  {
   "cell_type": "code",
   "execution_count": 41,
   "id": "d6950e66-f135-464f-abc9-367fe924ef25",
   "metadata": {
    "scrolled": true
   },
   "outputs": [
    {
     "data": {
      "text/plain": [
       "[\n",
       " LONDON, England (Reuters) -- Harry Potter star Daniel Radcliffe gains access to a reported £20 million ($41.1 million) fortune as he turns 18 on Monday, but he insists the money won't cast a spell on him.,\n",
       " At 18, Radcliffe will be able to gamble in a casino, buy a drink in a pub or see the horror film \"Hostel: Part II,\" currently six places below his number one movie on the UK box office chart.,\n",
       " \"I don't plan to be one of those people who, as soon as they turn 18, suddenly buy themselves a massive sports car collection or something similar,\" he told an Australian interviewer earlier this month.,\n",
       " To the disappointment of gossip columnists around the world, the young actor says he has no plans to fritter his cash away on fast cars, drink and celebrity parties.,\n",
       " Meanwhile, he is braced for even closer media scrutiny now that he's legally an adult: \"I just think I'm going to be more sort of fair game,\" he told Reuters.,\n",
       " \"People are always looking to say 'kid star goes off the rails,'\" he told reporters last month.,\n",
       " His latest outing as the boy wizard in \"Harry Potter and the Order of the Phoenix\" is breaking records on both sides of the Atlantic and he will reprise the role in the last two films.  ]"
      ]
     },
     "execution_count": 41,
     "metadata": {},
     "output_type": "execute_result"
    }
   ],
   "source": [
    "summary"
   ]
  },
  {
   "cell_type": "code",
   "execution_count": 42,
   "id": "968d8abd-824b-4736-8642-6e0434e2c9c6",
   "metadata": {},
   "outputs": [],
   "source": [
    "final_summary = [word.text for word in summary]"
   ]
  },
  {
   "cell_type": "code",
   "execution_count": 43,
   "id": "bb95cd27-d571-4212-a6eb-59c61cefeaa5",
   "metadata": {},
   "outputs": [
    {
     "data": {
      "text/plain": [
       "[\"\\nLONDON, England (Reuters) -- Harry Potter star Daniel Radcliffe gains access to a reported £20 million ($41.1 million) fortune as he turns 18 on Monday, but he insists the money won't cast a spell on him.\",\n",
       " 'At 18, Radcliffe will be able to gamble in a casino, buy a drink in a pub or see the horror film \"Hostel: Part II,\" currently six places below his number one movie on the UK box office chart.',\n",
       " '\"I don\\'t plan to be one of those people who, as soon as they turn 18, suddenly buy themselves a massive sports car collection or something similar,\" he told an Australian interviewer earlier this month.',\n",
       " 'To the disappointment of gossip columnists around the world, the young actor says he has no plans to fritter his cash away on fast cars, drink and celebrity parties.',\n",
       " 'Meanwhile, he is braced for even closer media scrutiny now that he\\'s legally an adult: \"I just think I\\'m going to be more sort of fair game,\" he told Reuters.',\n",
       " '\"People are always looking to say \\'kid star goes off the rails,\\'\" he told reporters last month.',\n",
       " 'His latest outing as the boy wizard in \"Harry Potter and the Order of the Phoenix\" is breaking records on both sides of the Atlantic and he will reprise the role in the last two films.  ']"
      ]
     },
     "execution_count": 43,
     "metadata": {},
     "output_type": "execute_result"
    }
   ],
   "source": [
    "final_summary"
   ]
  }
 ],
 "metadata": {
  "kernelspec": {
   "display_name": "Python 3 (ipykernel)",
   "language": "python",
   "name": "python3"
  },
  "language_info": {
   "codemirror_mode": {
    "name": "ipython",
    "version": 3
   },
   "file_extension": ".py",
   "mimetype": "text/x-python",
   "name": "python",
   "nbconvert_exporter": "python",
   "pygments_lexer": "ipython3",
   "version": "3.11.7"
  }
 },
 "nbformat": 4,
 "nbformat_minor": 5
}
