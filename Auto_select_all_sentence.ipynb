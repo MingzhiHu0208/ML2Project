{
 "cells": [
  {
   "cell_type": "code",
   "execution_count": 1,
   "id": "e806bc0e-6983-47f3-9c8f-958de1b1ac92",
   "metadata": {
    "jupyter": {
     "is_executing": true
    },
    "ExecuteTime": {
     "end_time": "2024-04-25T01:16:48.846437800Z",
     "start_time": "2024-04-25T01:16:43.224321300Z"
    }
   },
   "outputs": [],
   "source": [
    "import spacy\n",
    "import pandas as pd\n",
    "from spacy.lang.en.stop_words import STOP_WORDS\n",
    "from string import punctuation\n",
    "from heapq import nlargest\n",
    "from datasets import load_dataset"
   ]
  },
  {
   "cell_type": "code",
   "execution_count": 2,
   "id": "9649da00",
   "metadata": {
    "ExecuteTime": {
     "end_time": "2024-04-25T01:16:56.893198700Z",
     "start_time": "2024-04-25T01:16:48.848437600Z"
    }
   },
   "outputs": [
    {
     "data": {
      "text/plain": "DatasetDict({\n    train: Dataset({\n        features: ['article', 'highlights', 'id'],\n        num_rows: 287113\n    })\n    validation: Dataset({\n        features: ['article', 'highlights', 'id'],\n        num_rows: 13368\n    })\n    test: Dataset({\n        features: ['article', 'highlights', 'id'],\n        num_rows: 11490\n    })\n})"
     },
     "execution_count": 2,
     "metadata": {},
     "output_type": "execute_result"
    }
   ],
   "source": [
    "ds = load_dataset(\"cnn_dailymail\", \"1.0.0\")\n",
    "ds"
   ]
  },
  {
   "cell_type": "code",
   "execution_count": 3,
   "id": "ce950e52",
   "metadata": {
    "ExecuteTime": {
     "end_time": "2024-04-25T01:16:57.289250900Z",
     "start_time": "2024-04-25T01:16:56.895197600Z"
    }
   },
   "outputs": [],
   "source": [
    "stopwords = list(STOP_WORDS)\n",
    "nlp = spacy.load('en_core_web_sm')"
   ]
  },
  {
   "cell_type": "code",
   "execution_count": 5,
   "id": "8e03a0cb",
   "metadata": {
    "ExecuteTime": {
     "end_time": "2024-04-15T21:25:41.523852900Z",
     "start_time": "2024-04-15T21:25:41.513851600Z"
    }
   },
   "outputs": [],
   "source": [
    "def select_main_sentence(text, punctuation, nlp):\n",
    "    doc = nlp(text)\n",
    "    tokens = [token.text for token in doc]\n",
    "    punctuation = punctuation + '\\n'\n",
    "    sentence_tokens = [sent for sent in doc.sents]\n",
    "    \n",
    "    word_frequencies = {}\n",
    "    for word in doc:\n",
    "        if word.text.lower() not in stopwords:\n",
    "            if word.text.lower() not in punctuation:\n",
    "                if word.text not in word_frequencies.keys():\n",
    "                    word_frequencies[word.text] = 1\n",
    "                else:\n",
    "                    word_frequencies[word.text] += 1\n",
    "\n",
    "    sentence_scores = {}\n",
    "    for sent in sentence_tokens:\n",
    "        for word in sent:\n",
    "            if word.text.lower() in word_frequencies.keys():\n",
    "                if sent not in sentence_scores.keys():\n",
    "                    sentence_scores[sent] = word_frequencies[word.text.lower()]\n",
    "                else:\n",
    "                    sentence_scores[sent] += word_frequencies[word.text.lower()]\n",
    "         \n",
    "    summary = nlargest(3, sentence_scores, key = sentence_scores.get)\n",
    "    return summary\n",
    "    \n",
    "    \n"
   ]
  },
  {
   "cell_type": "code",
   "execution_count": 6,
   "id": "2105b78d",
   "metadata": {
    "ExecuteTime": {
     "end_time": "2024-04-15T21:25:41.543851500Z",
     "start_time": "2024-04-15T21:25:41.527856900Z"
    }
   },
   "outputs": [],
   "source": [
    "def run_file(ds_type):\n",
    "    summary_list =  []\n",
    "    for i in range(len(ds_type)):\n",
    "    #for i in range(1):\n",
    "        summary_list.append(select_main_sentence(ds_type[i]['article'], punctuation, nlp))\n",
    "        print('\\r {}/{}'.format(i, len(ds_type)), end='')\n",
    "    return summary_list\n"
   ]
  },
  {
   "cell_type": "code",
   "execution_count": 7,
   "id": "c87b6c10",
   "metadata": {
    "scrolled": false,
    "ExecuteTime": {
     "end_time": "2024-04-15T21:42:42.252335500Z",
     "start_time": "2024-04-15T21:25:41.551850700Z"
    }
   },
   "outputs": [
    {
     "name": "stdout",
     "output_type": "stream",
     "text": [
      " 11489/11490"
     ]
    }
   ],
   "source": [
    "f1  = run_file(ds['test'])\n",
    "f1 = pd.DataFrame(f1)\n",
    "f1.to_csv(\"summary_test.csv\")\n",
    "del f1"
   ]
  },
  {
   "cell_type": "code",
   "outputs": [
    {
     "name": "stdout",
     "output_type": "stream",
     "text": [
      " 13367/13368"
     ]
    }
   ],
   "source": [
    "f2  = run_file(ds['validation'])\n",
    "f2 = pd.DataFrame(f2)\n",
    "f2.to_csv(\"summary_validation.csv\")\n",
    "del f2"
   ],
   "metadata": {
    "collapsed": false,
    "ExecuteTime": {
     "end_time": "2024-04-15T23:11:23.003602800Z",
     "start_time": "2024-04-15T22:18:44.025616Z"
    }
   },
   "id": "9e5c81e8a1d67f81",
   "execution_count": 20
  },
  {
   "cell_type": "code",
   "outputs": [],
   "source": [
    "#f3 = run_file(ds['train'])"
   ],
   "metadata": {
    "collapsed": false
   },
   "id": "7379ede821e4e4f1"
  },
  {
   "cell_type": "code",
   "outputs": [],
   "source": [],
   "metadata": {
    "collapsed": false
   },
   "id": "5d4c9520f6d29441"
  }
 ],
 "metadata": {
  "kernelspec": {
   "display_name": "Python 3 (ipykernel)",
   "language": "python",
   "name": "python3"
  },
  "language_info": {
   "codemirror_mode": {
    "name": "ipython",
    "version": 3
   },
   "file_extension": ".py",
   "mimetype": "text/x-python",
   "name": "python",
   "nbconvert_exporter": "python",
   "pygments_lexer": "ipython3",
   "version": "3.11.5"
  }
 },
 "nbformat": 4,
 "nbformat_minor": 5
}
