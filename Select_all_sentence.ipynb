{
 "cells": [
  {
   "cell_type": "code",
   "execution_count": 1,
   "id": "e806bc0e-6983-47f3-9c8f-958de1b1ac92",
   "metadata": {
    "jupyter": {
     "is_executing": true
    },
    "ExecuteTime": {
     "end_time": "2024-04-17T13:03:34.035365900Z",
     "start_time": "2024-04-17T13:03:26.100816Z"
    }
   },
   "outputs": [],
   "source": [
    "import spacy\n",
    "from spacy.lang.en.stop_words import STOP_WORDS\n",
    "from string import punctuation\n",
    "from heapq import nlargest\n",
    "from datasets import load_dataset\n",
    "from rouge import Rouge\n",
    "from transformers import AutoTokenizer, AutoModelForSeq2SeqLM, DataCollatorForSeq2Seq, Seq2SeqTrainer, Seq2SeqTrainingArguments"
   ]
  },
  {
   "cell_type": "code",
   "execution_count": 3,
   "id": "9649da00",
   "metadata": {
    "ExecuteTime": {
     "end_time": "2024-04-17T13:03:42.677316500Z",
     "start_time": "2024-04-17T13:03:34.048370100Z"
    }
   },
   "outputs": [
    {
     "data": {
      "text/plain": "DatasetDict({\n    train: Dataset({\n        features: ['article', 'highlights', 'id'],\n        num_rows: 287113\n    })\n    validation: Dataset({\n        features: ['article', 'highlights', 'id'],\n        num_rows: 13368\n    })\n    test: Dataset({\n        features: ['article', 'highlights', 'id'],\n        num_rows: 11490\n    })\n})"
     },
     "execution_count": 3,
     "metadata": {},
     "output_type": "execute_result"
    }
   ],
   "source": [
    "ds = load_dataset(\"cnn_dailymail\", \"1.0.0\")\n",
    "ds"
   ]
  },
  {
   "cell_type": "code",
   "execution_count": 4,
   "id": "ce950e52",
   "metadata": {
    "ExecuteTime": {
     "end_time": "2024-04-17T13:03:43.073319100Z",
     "start_time": "2024-04-17T13:03:42.680316100Z"
    }
   },
   "outputs": [],
   "source": [
    "stopwords = list(STOP_WORDS)\n",
    "nlp = spacy.load('en_core_web_sm')"
   ]
  },
  {
   "cell_type": "code",
   "execution_count": 5,
   "id": "8e03a0cb",
   "metadata": {
    "ExecuteTime": {
     "end_time": "2024-04-17T13:03:43.091315400Z",
     "start_time": "2024-04-17T13:03:43.079317200Z"
    }
   },
   "outputs": [],
   "source": [
    "def select_main_sentence(text, punctuation, nlp):\n",
    "    summary_length = 3\n",
    "    doc = nlp(text)\n",
    "    tokens = [token.text for token in doc]\n",
    "    punctuation = punctuation + '\\n'\n",
    "    sentence_tokens = [sent for sent in doc.sents]\n",
    "    \n",
    "    word_frequencies = {}\n",
    "    for word in doc:\n",
    "        if word.text.lower() not in stopwords:\n",
    "            if word.text.lower() not in punctuation:\n",
    "                if word.text not in word_frequencies.keys():\n",
    "                    word_frequencies[word.text] = 1\n",
    "                else:\n",
    "                    word_frequencies[word.text] += 1\n",
    "\n",
    "    sentence_scores = {}\n",
    "    for sent in sentence_tokens:\n",
    "        for word in sent:\n",
    "            if word.text.lower() in word_frequencies.keys():\n",
    "                if sent not in sentence_scores.keys():\n",
    "                    sentence_scores[sent] = word_frequencies[word.text.lower()]\n",
    "                else:\n",
    "                    sentence_scores[sent] += word_frequencies[word.text.lower()]\n",
    "         \n",
    "    summary = nlargest(summary_length, sentence_scores, key = sentence_scores.get)\n",
    "    return summary\n",
    "    \n",
    "    \n"
   ]
  },
  {
   "cell_type": "code",
   "execution_count": 6,
   "id": "cbaa0855",
   "metadata": {
    "scrolled": true,
    "ExecuteTime": {
     "end_time": "2024-04-17T13:03:43.264314900Z",
     "start_time": "2024-04-17T13:03:43.091315400Z"
    }
   },
   "outputs": [],
   "source": [
    "from transformers import pipeline"
   ]
  },
  {
   "cell_type": "code",
   "execution_count": 12,
   "id": "34785940",
   "metadata": {
    "ExecuteTime": {
     "end_time": "2024-04-17T13:09:49.527736400Z",
     "start_time": "2024-04-17T13:09:48.526633500Z"
    }
   },
   "outputs": [
    {
     "name": "stdout",
     "output_type": "stream",
     "text": [
      "load trained model and weights\n"
     ]
    }
   ],
   "source": [
    "tokenizer = AutoTokenizer.from_pretrained(\"google-t5/t5-small\", max_length=1024)\n",
    "model = AutoModelForSeq2SeqLM.from_pretrained(\"google-t5/t5-small\")\n",
    "model.from_pretrained(\"./summary/checkpoint-6656\")   # load weights if have already trained\n",
    "print('load trained model and weights')\n",
    "pipe = pipeline('text2text-generation', model=model, tokenizer=tokenizer, device=0)\n"
   ]
  },
  {
   "cell_type": "code",
   "execution_count": 77,
   "id": "1abdfa47",
   "metadata": {
    "ExecuteTime": {
     "end_time": "2024-04-17T14:00:37.850717600Z",
     "start_time": "2024-04-17T14:00:36.993717900Z"
    }
   },
   "outputs": [
    {
     "name": "stdout",
     "output_type": "stream",
     "text": [
      "\n",
      "----------------------------article---------------------------------------\n",
      "\n",
      "LONDON, England -- A mother is seeking to have the womb of her severely disabled daughter removed to prevent the 15-year-old from feeling the pain and discomfort of menstruation. Doctors in Britain are now taking legal advice to see if they are permitted to carry out the hysterectomy on Katie Thorpe, who suffers from cerebral palsy. But a charity campaigning for the disabled said on Monday the move could infringe human rights and would set a \"disturbing precedent.\" Andy Rickell, executive director of disability charity Scope, told the Press Association: \"It is very difficult to see how this kind of invasive surgery, which is not medically necessary and which will be very painful and traumatic, can be in Katie's best interests. \"This case raises fundamental ethical issues about the way our society treats disabled people and the respect we have for disabled people's human and reproductive rights.  Watch why the surgery is so controversial » . \"If this enforced sterilization is approved, it will have disturbing implications for young disabled girls across Britain.\" Katie's mother Alison Thorpe, who lives in Billericay, southern England, said the operation was in her daughter's best interests. \"First of all, this is not about me. If it was about me, I would have given up caring for Katie a long, long while ago,\" she told GMTV. \"It is about quality of life and for Katie to not have the associated problems of menstruation adds to her quality of life. It means she can continue with the quality of life we can give her now. \"Katie wouldn't understand menstruation at all. She has no comprehension about what will be happening to her body. All she would feel is the discomfort, the stomach cramps and the headaches, the mood swings, the tears, and wonder what is going on.\" Thorpe said an operation would be best for Katie, despite the initial pain it would cause. She added: \"The short-term pain and discomfort we can manage with painkillers. We will be able to manage that pain much better than menstruation once a month, when Katie cannot tell us 'I'm in pain.'\"  E-mail to a friend .\n",
      "\n",
      "----------------------------label---------------------------------------\n",
      "\n",
      "Mother seeks to have womb of severely disabled daughter, 15, removed . Briton wants to prevent cerebral palsy sufferer feeling pain of menstruation . UK doctors seek legal advice to see if they can perform hysterectomy . Charity for disabled says move could infringe human rights .\n",
      "\n",
      "----------------------------generate summary---------------------------------------\n",
      "LONDON, England -- A mother is seeking to have the womb of her severely disabled daughter removed to prevent the 15-year-old from feeling the pain and discomfort of menstruation.\"This case raises fundamental ethical issues about the way our society treats disabled people and the respect we have for disabled people's human and reproductive rights.  We will be able to manage that pain much better than menstruation once a month, when Katie cannot tell us 'I'm in pain.'\"  \n",
      "\n",
      " Rouge-L:  {'r': 0.21875, 'p': 0.358974358974359, 'f': 0.271844655488736}\n",
      "\n",
      "----------------------------generate summary t5 model---------------------------------------\n",
      ",,,,,, despite the initial pain it would cause.,, the womb of her severely disabled daughter.,, the womb of her severely disabled daughter. a charity campaigning for the disabled said the move could\n",
      "\n",
      " Rouge-L between label and generate summary with t5 model is  {'r': 0.36363636363636365, 'p': 0.20512820512820512, 'f': 0.26229507735554963}\n"
     ]
    }
   ],
   "source": [
    "rouge = Rouge()\n",
    "print(\"\\n----------------------------article---------------------------------------\\n\")\n",
    "text = ds['train'][200]['article']\n",
    "print(text)\n",
    "print(\"\\n----------------------------label---------------------------------------\\n\")\n",
    "target = ds['train'][200]['highlights']\n",
    "print(target)\n",
    "print(\"\\n----------------------------generate summary---------------------------------------\")\n",
    "summary = select_main_sentence(text, punctuation, nlp)\n",
    "generate_summary = \"\"\n",
    "for each in summary:\n",
    "    generate_summary = generate_summary + str(each)\n",
    "print(generate_summary)\n",
    "print(\"\\n Rouge-L: \", rouge.get_scores(target, generate_summary)[0]['rouge-l'])\n",
    "\n",
    "print(\"\\n----------------------------generate summary t5 model---------------------------------------\")\n",
    "pip_res = pipe(\"Generate summary:\\n\" + text, max_length = 64)\n",
    "t5_summary = pip_res[0]['generated_text']\n",
    "print(t5_summary)\n",
    "print(\"\\n Rouge-L between label and generate summary with t5 model is \", rouge.get_scores(target, t5_summary)[0]['rouge-l'])\n"
   ]
  },
  {
   "cell_type": "code",
   "execution_count": null,
   "id": "1c28880a",
   "metadata": {},
   "outputs": [],
   "source": []
  },
  {
   "cell_type": "code",
   "execution_count": null,
   "id": "66b722ca",
   "metadata": {},
   "outputs": [],
   "source": []
  },
  {
   "cell_type": "code",
   "outputs": [],
   "source": [],
   "metadata": {
    "collapsed": false
   },
   "id": "46bd4dee5c6e6e07"
  },
  {
   "cell_type": "code",
   "outputs": [],
   "source": [],
   "metadata": {
    "collapsed": false
   },
   "id": "e856ff3ee5298c0e"
  },
  {
   "cell_type": "code",
   "outputs": [],
   "source": [],
   "metadata": {
    "collapsed": false
   },
   "id": "5d32b523356c4fd7"
  }
 ],
 "metadata": {
  "kernelspec": {
   "display_name": "Python 3 (ipykernel)",
   "language": "python",
   "name": "python3"
  },
  "language_info": {
   "codemirror_mode": {
    "name": "ipython",
    "version": 3
   },
   "file_extension": ".py",
   "mimetype": "text/x-python",
   "name": "python",
   "nbconvert_exporter": "python",
   "pygments_lexer": "ipython3",
   "version": "3.11.5"
  }
 },
 "nbformat": 4,
 "nbformat_minor": 5
}
